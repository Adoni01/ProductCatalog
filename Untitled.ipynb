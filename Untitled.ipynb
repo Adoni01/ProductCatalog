{
  "nbformat": 4,
  "nbformat_minor": 0,
  "metadata": {
    "colab": {
      "name": "Untitled",
      "provenance": [],
      "authorship_tag": "ABX9TyNZiXP54VaFuZk/GXr/2lCU",
      "include_colab_link": true
    },
    "kernelspec": {
      "name": "python3",
      "display_name": "Python 3"
    }
  },
  "cells": [
    {
      "cell_type": "markdown",
      "metadata": {
        "id": "view-in-github",
        "colab_type": "text"
      },
      "source": [
        "<a href=\"https://colab.research.google.com/github/Adoni01/ProductCatalog/blob/master/Untitled.ipynb\" target=\"_parent\"><img src=\"https://colab.research.google.com/assets/colab-badge.svg\" alt=\"Open In Colab\"/></a>"
      ]
    },
    {
      "cell_type": "code",
      "metadata": {
        "id": "uLRlGg0LsSWe",
        "colab_type": "code",
        "colab": {
          "base_uri": "https://localhost:8080/",
          "height": 135
        },
        "outputId": "d299d53e-d76f-4b6c-8a2c-85e472a14363"
      },
      "source": [
        "  !pip install pygeoip\n",
        "\n",
        "  import pygeoip\n",
        "\n",
        "  import requests\n",
        "\n",
        "  my_ip_addr = requests.get('https://google.com').text\n",
        "\n",
        "  gi=pygeoip.GeoIP('C:\\Users\\angea\\Desktop\\geodata\\GeoLite2-City_20200908')\n",
        "  gi.country_name_by_addr('14.139.61.12')\n",
        "\n",
        "\n"
      ],
      "execution_count": null,
      "outputs": [
        {
          "output_type": "error",
          "ename": "SyntaxError",
          "evalue": "ignored",
          "traceback": [
            "\u001b[0;36m  File \u001b[0;32m\"<ipython-input-10-50945f7d95f4>\"\u001b[0;36m, line \u001b[0;32m9\u001b[0m\n\u001b[0;31m    gi=pygeoip.GeoIP('C:\\Users\\angea\\Desktop\\geodata\\GeoLite2-City_20200908')\u001b[0m\n\u001b[0m                    ^\u001b[0m\n\u001b[0;31mSyntaxError\u001b[0m\u001b[0;31m:\u001b[0m (unicode error) 'unicodeescape' codec can't decode bytes in position 2-3: truncated \\UXXXXXXXX escape\n"
          ]
        }
      ]
    }
  ]
}