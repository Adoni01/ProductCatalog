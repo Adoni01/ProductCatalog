{
  "nbformat": 4,
  "nbformat_minor": 0,
  "metadata": {
    "colab": {
      "name": "Untitled0.ipynb",
      "provenance": [],
      "authorship_tag": "ABX9TyNpdZDuT7YdYpIPHT3FRHm+",
      "include_colab_link": true
    },
    "kernelspec": {
      "name": "python3",
      "display_name": "Python 3"
    }
  },
  "cells": [
    {
      "cell_type": "markdown",
      "metadata": {
        "id": "view-in-github",
        "colab_type": "text"
      },
      "source": [
        "<a href=\"https://colab.research.google.com/github/Adoni01/ProductCatalog/blob/master/Untitled0.ipynb\" target=\"_parent\"><img src=\"https://colab.research.google.com/assets/colab-badge.svg\" alt=\"Open In Colab\"/></a>"
      ]
    },
    {
      "cell_type": "code",
      "metadata": {
        "id": "j4XqNvpl1AaX",
        "colab_type": "code",
        "colab": {
          "base_uri": "https://localhost:8080/",
          "height": 109
        },
        "outputId": "aeb0811d-0405-4045-c173-6e925c561e29"
      },
      "source": [
        "#import the library\n",
        "from nltk.chat.util import Chat, reflections\n",
        "\n",
        "pairs =[\n",
        "        ['my name is (.*)',['hi %1']],\n",
        "        ['(hi|hello|hey|holla|hola)',['hey there','hi there','hayyyyy']],\n",
        "        ['(.*)in(.*)is fun',['%1 in %2 i s indeed fun']],\n",
        "        ['(.*).(location|city)?','Ottawa,Canada'],\n",
        "        ['(.*)created you?',['Adonis ange joel did using nltk']],\n",
        "        ['(.*)help(.*)',['i can help you']]\n",
        "        \n",
        "]\n",
        "reflections\n",
        "my_dummy_reflections = {\n",
        "    'go':'gone',\n",
        "    'hello':'hey there'\n",
        "}\n",
        "\n",
        "\n",
        "chat = Chat(pairs,my_dummy_reflections)\n",
        "chat.converse()\n"
      ],
      "execution_count": null,
      "outputs": [
        {
          "output_type": "stream",
          "text": [
            ">hey\n",
            "hi there\n",
            ">my name is racheed konate\n",
            "hi racheed konate\n"
          ],
          "name": "stdout"
        }
      ]
    },
    {
      "cell_type": "code",
      "metadata": {
        "id": "oar3RjlX31M8",
        "colab_type": "code",
        "colab": {}
      },
      "source": [
        ""
      ],
      "execution_count": null,
      "outputs": []
    }
  ]
}